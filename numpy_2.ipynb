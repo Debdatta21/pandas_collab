{
  "nbformat": 4,
  "nbformat_minor": 0,
  "metadata": {
    "colab": {
      "name": "numpy_2.ipynb",
      "provenance": [],
      "collapsed_sections": [],
      "include_colab_link": true
    },
    "kernelspec": {
      "name": "python3",
      "display_name": "Python 3"
    },
    "language_info": {
      "name": "python"
    }
  },
  "cells": [
    {
      "cell_type": "markdown",
      "metadata": {
        "id": "view-in-github",
        "colab_type": "text"
      },
      "source": [
        "<a href=\"https://colab.research.google.com/github/Debdatta21/pandas_collab/blob/main/numpy_2.ipynb\" target=\"_parent\"><img src=\"https://colab.research.google.com/assets/colab-badge.svg\" alt=\"Open In Colab\"/></a>"
      ]
    },
    {
      "cell_type": "code",
      "metadata": {
        "id": "vjhvOwt28So2",
        "colab": {
          "base_uri": "https://localhost:8080/"
        },
        "outputId": "ba51f1cc-3ee4-40bd-8ad4-1776e862d0a9"
      },
      "source": [
        "from google.colab import drive\n",
        "drive.mount('/content/drive')"
      ],
      "execution_count": null,
      "outputs": [
        {
          "output_type": "stream",
          "text": [
            "Mounted at /content/drive\n"
          ],
          "name": "stdout"
        }
      ]
    },
    {
      "cell_type": "code",
      "metadata": {
        "id": "TjX57NoR8LVg"
      },
      "source": [
        "import numpy as np"
      ],
      "execution_count": null,
      "outputs": []
    },
    {
      "cell_type": "code",
      "metadata": {
        "id": "UgQUp9k-7ZeW"
      },
      "source": [
        "a=np.array([1,2,3,4,5])"
      ],
      "execution_count": null,
      "outputs": []
    },
    {
      "cell_type": "code",
      "metadata": {
        "colab": {
          "base_uri": "https://localhost:8080/"
        },
        "id": "8UnQUhzd7l6h",
        "outputId": "7df461e5-1f1e-403d-bb5c-f021eaccac17"
      },
      "source": [
        "type(a)"
      ],
      "execution_count": null,
      "outputs": [
        {
          "output_type": "execute_result",
          "data": {
            "text/plain": [
              "numpy.ndarray"
            ]
          },
          "metadata": {
            "tags": []
          },
          "execution_count": 4
        }
      ]
    },
    {
      "cell_type": "code",
      "metadata": {
        "colab": {
          "base_uri": "https://localhost:8080/",
          "height": 35
        },
        "id": "QCu541Ob7ryw",
        "outputId": "ea7e2fd5-ce38-430e-8cbe-36c6f23f9bb5"
      },
      "source": [
        "import os \n",
        "os.getcwd()"
      ],
      "execution_count": null,
      "outputs": [
        {
          "output_type": "execute_result",
          "data": {
            "application/vnd.google.colaboratory.intrinsic+json": {
              "type": "string"
            },
            "text/plain": [
              "'/content'"
            ]
          },
          "metadata": {
            "tags": []
          },
          "execution_count": 5
        }
      ]
    },
    {
      "cell_type": "code",
      "metadata": {
        "id": "dntYriK87xB-"
      },
      "source": [
        "import pandas as pd"
      ],
      "execution_count": null,
      "outputs": []
    },
    {
      "cell_type": "code",
      "metadata": {
        "id": "77SjLSiB71Nf"
      },
      "source": [
        "df=pd.read_csv(\"/content/drive/MyDrive/Colab Notebooks/titanic .csv\")"
      ],
      "execution_count": null,
      "outputs": []
    },
    {
      "cell_type": "code",
      "metadata": {
        "colab": {
          "base_uri": "https://localhost:8080/"
        },
        "id": "NhOv04P77_2E",
        "outputId": "bee6cd70-beed-488f-9530-1c65f1538c0a"
      },
      "source": [
        "df.shape"
      ],
      "execution_count": null,
      "outputs": [
        {
          "output_type": "execute_result",
          "data": {
            "text/plain": [
              "(891, 12)"
            ]
          },
          "metadata": {
            "tags": []
          },
          "execution_count": 8
        }
      ]
    },
    {
      "cell_type": "code",
      "metadata": {
        "colab": {
          "base_uri": "https://localhost:8080/",
          "height": 203
        },
        "id": "5JtS8AD48CxL",
        "outputId": "0ed04899-d63a-445c-8f49-97c01980e3f2"
      },
      "source": [
        "df.head()"
      ],
      "execution_count": null,
      "outputs": [
        {
          "output_type": "execute_result",
          "data": {
            "text/html": [
              "<div>\n",
              "<style scoped>\n",
              "    .dataframe tbody tr th:only-of-type {\n",
              "        vertical-align: middle;\n",
              "    }\n",
              "\n",
              "    .dataframe tbody tr th {\n",
              "        vertical-align: top;\n",
              "    }\n",
              "\n",
              "    .dataframe thead th {\n",
              "        text-align: right;\n",
              "    }\n",
              "</style>\n",
              "<table border=\"1\" class=\"dataframe\">\n",
              "  <thead>\n",
              "    <tr style=\"text-align: right;\">\n",
              "      <th></th>\n",
              "      <th>PassengerId</th>\n",
              "      <th>Survived</th>\n",
              "      <th>Pclass</th>\n",
              "      <th>Name</th>\n",
              "      <th>Sex</th>\n",
              "      <th>Age</th>\n",
              "      <th>SibSp</th>\n",
              "      <th>Parch</th>\n",
              "      <th>Ticket</th>\n",
              "      <th>Fare</th>\n",
              "      <th>Cabin</th>\n",
              "      <th>Embarked</th>\n",
              "    </tr>\n",
              "  </thead>\n",
              "  <tbody>\n",
              "    <tr>\n",
              "      <th>0</th>\n",
              "      <td>1</td>\n",
              "      <td>0</td>\n",
              "      <td>3</td>\n",
              "      <td>Braund, Mr. Owen Harris</td>\n",
              "      <td>male</td>\n",
              "      <td>22.0</td>\n",
              "      <td>1</td>\n",
              "      <td>0</td>\n",
              "      <td>A/5 21171</td>\n",
              "      <td>7.2500</td>\n",
              "      <td>NaN</td>\n",
              "      <td>S</td>\n",
              "    </tr>\n",
              "    <tr>\n",
              "      <th>1</th>\n",
              "      <td>2</td>\n",
              "      <td>1</td>\n",
              "      <td>1</td>\n",
              "      <td>Cumings, Mrs. John Bradley (Florence Briggs Th...</td>\n",
              "      <td>female</td>\n",
              "      <td>38.0</td>\n",
              "      <td>1</td>\n",
              "      <td>0</td>\n",
              "      <td>PC 17599</td>\n",
              "      <td>71.2833</td>\n",
              "      <td>C85</td>\n",
              "      <td>C</td>\n",
              "    </tr>\n",
              "    <tr>\n",
              "      <th>2</th>\n",
              "      <td>3</td>\n",
              "      <td>1</td>\n",
              "      <td>3</td>\n",
              "      <td>Heikkinen, Miss. Laina</td>\n",
              "      <td>female</td>\n",
              "      <td>26.0</td>\n",
              "      <td>0</td>\n",
              "      <td>0</td>\n",
              "      <td>STON/O2. 3101282</td>\n",
              "      <td>7.9250</td>\n",
              "      <td>NaN</td>\n",
              "      <td>S</td>\n",
              "    </tr>\n",
              "    <tr>\n",
              "      <th>3</th>\n",
              "      <td>4</td>\n",
              "      <td>1</td>\n",
              "      <td>1</td>\n",
              "      <td>Futrelle, Mrs. Jacques Heath (Lily May Peel)</td>\n",
              "      <td>female</td>\n",
              "      <td>35.0</td>\n",
              "      <td>1</td>\n",
              "      <td>0</td>\n",
              "      <td>113803</td>\n",
              "      <td>53.1000</td>\n",
              "      <td>C123</td>\n",
              "      <td>S</td>\n",
              "    </tr>\n",
              "    <tr>\n",
              "      <th>4</th>\n",
              "      <td>5</td>\n",
              "      <td>0</td>\n",
              "      <td>3</td>\n",
              "      <td>Allen, Mr. William Henry</td>\n",
              "      <td>male</td>\n",
              "      <td>35.0</td>\n",
              "      <td>0</td>\n",
              "      <td>0</td>\n",
              "      <td>373450</td>\n",
              "      <td>8.0500</td>\n",
              "      <td>NaN</td>\n",
              "      <td>S</td>\n",
              "    </tr>\n",
              "  </tbody>\n",
              "</table>\n",
              "</div>"
            ],
            "text/plain": [
              "   PassengerId  Survived  Pclass  ...     Fare Cabin  Embarked\n",
              "0            1         0       3  ...   7.2500   NaN         S\n",
              "1            2         1       1  ...  71.2833   C85         C\n",
              "2            3         1       3  ...   7.9250   NaN         S\n",
              "3            4         1       1  ...  53.1000  C123         S\n",
              "4            5         0       3  ...   8.0500   NaN         S\n",
              "\n",
              "[5 rows x 12 columns]"
            ]
          },
          "metadata": {
            "tags": []
          },
          "execution_count": 9
        }
      ]
    },
    {
      "cell_type": "code",
      "metadata": {
        "colab": {
          "base_uri": "https://localhost:8080/"
        },
        "id": "0XGvsoYl8G3e",
        "outputId": "7448fe63-49a2-4884-c75d-a21b46dac83c"
      },
      "source": [
        "type(df)"
      ],
      "execution_count": null,
      "outputs": [
        {
          "output_type": "execute_result",
          "data": {
            "text/plain": [
              "pandas.core.frame.DataFrame"
            ]
          },
          "metadata": {
            "tags": []
          },
          "execution_count": 10
        }
      ]
    },
    {
      "cell_type": "code",
      "metadata": {
        "colab": {
          "base_uri": "https://localhost:8080/"
        },
        "id": "VJ168lid8JuN",
        "outputId": "0a6f64ba-4859-4062-f99b-e418845c8dfa"
      },
      "source": [
        "type(df[\"Age\"])"
      ],
      "execution_count": null,
      "outputs": [
        {
          "output_type": "execute_result",
          "data": {
            "text/plain": [
              "pandas.core.series.Series"
            ]
          },
          "metadata": {
            "tags": []
          },
          "execution_count": 11
        }
      ]
    },
    {
      "cell_type": "code",
      "metadata": {
        "colab": {
          "base_uri": "https://localhost:8080/"
        },
        "id": "EaV8FePK8Oo3",
        "outputId": "4e2a7b20-9c02-4c9a-f0aa-dbe1344b149b"
      },
      "source": [
        "df.isna().sum()"
      ],
      "execution_count": null,
      "outputs": [
        {
          "output_type": "execute_result",
          "data": {
            "text/plain": [
              "PassengerId      0\n",
              "Survived         0\n",
              "Pclass           0\n",
              "Name             0\n",
              "Sex              0\n",
              "Age            177\n",
              "SibSp            0\n",
              "Parch            0\n",
              "Ticket           0\n",
              "Fare             0\n",
              "Cabin          687\n",
              "Embarked         2\n",
              "dtype: int64"
            ]
          },
          "metadata": {
            "tags": []
          },
          "execution_count": 12
        }
      ]
    },
    {
      "cell_type": "code",
      "metadata": {
        "colab": {
          "base_uri": "https://localhost:8080/"
        },
        "id": "wC7Gaqcr8Vnk",
        "outputId": "ebf3a4b6-7bc7-42da-c554-b52a615b5577"
      },
      "source": [
        "sum(df[\"Cabin\"].isnull())"
      ],
      "execution_count": null,
      "outputs": [
        {
          "output_type": "execute_result",
          "data": {
            "text/plain": [
              "687"
            ]
          },
          "metadata": {
            "tags": []
          },
          "execution_count": 13
        }
      ]
    },
    {
      "cell_type": "code",
      "metadata": {
        "id": "TnipXCB78aOJ"
      },
      "source": [
        "df.drop([\"Cabin\"],axis=1,inplace=True)"
      ],
      "execution_count": null,
      "outputs": []
    },
    {
      "cell_type": "code",
      "metadata": {
        "colab": {
          "base_uri": "https://localhost:8080/"
        },
        "id": "FmhcJsYD8aRo",
        "outputId": "5a706129-e4b1-437b-f626-5a06c1cfad43"
      },
      "source": [
        "df[\"Ticket\"][0:5]"
      ],
      "execution_count": null,
      "outputs": [
        {
          "output_type": "execute_result",
          "data": {
            "text/plain": [
              "0           A/5 21171\n",
              "1            PC 17599\n",
              "2    STON/O2. 3101282\n",
              "3              113803\n",
              "4              373450\n",
              "Name: Ticket, dtype: object"
            ]
          },
          "metadata": {
            "tags": []
          },
          "execution_count": 15
        }
      ]
    },
    {
      "cell_type": "code",
      "metadata": {
        "id": "4tDhT2iy8oAg"
      },
      "source": [
        "df.drop([\"Ticket\"],axis=1,inplace=True)"
      ],
      "execution_count": null,
      "outputs": []
    },
    {
      "cell_type": "code",
      "metadata": {
        "colab": {
          "base_uri": "https://localhost:8080/"
        },
        "id": "VboVu_DT8oEB",
        "outputId": "7f0d959e-b33d-4bf1-f90d-fbc88fe608be"
      },
      "source": [
        "df.apply(lambda x:sum(x.isnull()),axis=0)"
      ],
      "execution_count": null,
      "outputs": [
        {
          "output_type": "execute_result",
          "data": {
            "text/plain": [
              "PassengerId      0\n",
              "Survived         0\n",
              "Pclass           0\n",
              "Name             0\n",
              "Sex              0\n",
              "Age            177\n",
              "SibSp            0\n",
              "Parch            0\n",
              "Fare             0\n",
              "Embarked         2\n",
              "dtype: int64"
            ]
          },
          "metadata": {
            "tags": []
          },
          "execution_count": 17
        }
      ]
    },
    {
      "cell_type": "code",
      "metadata": {
        "colab": {
          "base_uri": "https://localhost:8080/"
        },
        "id": "9ftBh0cx89Jv",
        "outputId": "8081397f-a025-4c2b-fe01-8d07adba8541"
      },
      "source": [
        "df.Age.fillna(df.Age.mean(),inplace=True)\n",
        "df.apply(lambda x:sum(x.isnull()),axis=0)"
      ],
      "execution_count": null,
      "outputs": [
        {
          "output_type": "execute_result",
          "data": {
            "text/plain": [
              "PassengerId    0\n",
              "Survived       0\n",
              "Pclass         0\n",
              "Name           0\n",
              "Sex            0\n",
              "Age            0\n",
              "SibSp          0\n",
              "Parch          0\n",
              "Fare           0\n",
              "Embarked       2\n",
              "dtype: int64"
            ]
          },
          "metadata": {
            "tags": []
          },
          "execution_count": 18
        }
      ]
    },
    {
      "cell_type": "code",
      "metadata": {
        "colab": {
          "base_uri": "https://localhost:8080/"
        },
        "id": "t8HyUc6O9Ca8",
        "outputId": "5cb521f4-2599-4125-f649-e0814f68f546"
      },
      "source": [
        "def get_title(name):\n",
        "    if '.' in name:\n",
        "        return name.split(',')[1].split('.')[0].strip()\n",
        "    else:\n",
        "        return 'Unknown'\n",
        "\n",
        "ans=get_title('Braund, Mr. Owen Harris')\n",
        "print (ans)"
      ],
      "execution_count": null,
      "outputs": [
        {
          "output_type": "stream",
          "text": [
            "Mr\n"
          ],
          "name": "stdout"
        }
      ]
    },
    {
      "cell_type": "code",
      "metadata": {
        "colab": {
          "base_uri": "https://localhost:8080/"
        },
        "id": "YQ_lloZg9NOo",
        "outputId": "4fb0e00c-ac4f-42a0-c0cc-fa2d57b33ec7"
      },
      "source": [
        "df2 = [df.Name.str.split(' ')[index][0]\n",
        "             for index in range(0, len(df))]\n",
        "print(df2)"
      ],
      "execution_count": null,
      "outputs": [
        {
          "output_type": "stream",
          "text": [
            "['Braund,', 'Cumings,', 'Heikkinen,', 'Futrelle,', 'Allen,', 'Moran,', 'McCarthy,', 'Palsson,', 'Johnson,', 'Nasser,', 'Sandstrom,', 'Bonnell,', 'Saundercock,', 'Andersson,', 'Vestrom,', 'Hewlett,', 'Rice,', 'Williams,', 'Vander', 'Masselmani,', 'Fynney,', 'Beesley,', 'McGowan,', 'Sloper,', 'Palsson,', 'Asplund,', 'Emir,', 'Fortune,', \"O'Dwyer,\", 'Todoroff,', 'Uruchurtu,', 'Spencer,', 'Glynn,', 'Wheadon,', 'Meyer,', 'Holverson,', 'Mamee,', 'Cann,', 'Vander', 'Nicola-Yarred,', 'Ahlin,', 'Turpin,', 'Kraeff,', 'Laroche,', 'Devaney,', 'Rogers,', 'Lennon,', \"O'Driscoll,\", 'Samaan,', 'Arnold-Franchi,', 'Panula,', 'Nosworthy,', 'Harper,', 'Faunthorpe,', 'Ostby,', 'Woolner,', 'Rugg,', 'Novel,', 'West,', 'Goodwin,', 'Sirayanian,', 'Icard,', 'Harris,', 'Skoog,', 'Stewart,', 'Moubarek,', 'Nye,', 'Crease,', 'Andersson,', 'Kink,', 'Jenkin,', 'Goodwin,', 'Hood,', 'Chronopoulos,', 'Bing,', 'Moen,', 'Staneff,', 'Moutal,', 'Caldwell,', 'Dowdell,', 'Waelens,', 'Sheerlinck,', 'McDermott,', 'Carrau,', 'Ilett,', 'Backstrom,', 'Ford,', 'Slocovski,', 'Fortune,', 'Celotti,', 'Christmann,', 'Andreasson,', 'Chaffee,', 'Dean,', 'Coxon,', 'Shorney,', 'Goldschmidt,', 'Greenfield,', 'Doling,', 'Kantor,', 'Petranec,', 'Petroff,', 'White,', 'Johansson,', 'Gustafsson,', 'Mionoff,', 'Salkjelsvik,', 'Moss,', 'Rekic,', 'Moran,', 'Porter,', 'Zabour,', 'Barton,', 'Jussila,', 'Attalah,', 'Pekoniemi,', 'Connors,', 'Turpin,', 'Baxter,', 'Andersson,', 'Hickman,', 'Moore,', 'Nasser,', 'Webber,', 'White,', 'Nicola-Yarred,', 'McMahon,', 'Madsen,', 'Peter,', 'Ekstrom,', 'Drazenoic,', 'Coelho,', 'Robins,', 'Weisz,', 'Sobey,', 'Richard,', 'Newsom,', 'Futrelle,', 'Osen,', 'Giglio,', 'Boulos,', 'Nysten,', 'Hakkarainen,', 'Burke,', 'Andrew,', 'Nicholls,', 'Andersson,', 'Ford,', 'Navratil,', 'Byles,', 'Bateman,', 'Pears,', 'Meo,', 'van', 'Olsen,', 'Williams,', 'Gilnagh,', 'Corn,', 'Smiljanic,', 'Sage,', 'Cribb,', 'Watt,', 'Bengtsson,', 'Calic,', 'Panula,', 'Goldsmith,', 'Chibnall,', 'Skoog,', 'Baumann,', 'Ling,', 'Van', 'Rice,', 'Johnson,', 'Sivola,', 'Smith,', 'Klasen,', 'Lefebre,', 'Isham,', 'Hale,', 'Leonard,', 'Sage,', 'Pernot,', 'Asplund,', 'Becker,', 'Kink-Heilmann,', 'Rood,', \"O'Brien,\", 'Romaine,', 'Bourke,', 'Turcin,', 'Pinsky,', 'Carbines,', 'Andersen-Jensen,', 'Navratil,', 'Brown,', 'Lurette,', 'Mernagh,', 'Olsen,', 'Madigan,', 'Yrois,', 'Vande', 'Sage,', 'Johanson,', 'Youseff,', 'Cohen,', 'Strom,', 'Backstrom,', 'Albimona,', 'Carr,', 'Blank,', 'Ali,', 'Cameron,', 'Perkin,', 'Givard,', 'Kiernan,', 'Newell,', 'Honkanen,', 'Jacobsohn,', 'Bazzani,', 'Harris,', 'Sunderland,', 'Bracken,', 'Green,', 'Nenkoff,', 'Hoyt,', 'Berglund,', 'Mellors,', 'Lovell,', 'Fahlstrom,', 'Lefebre,', 'Harris,', 'Larsson,', 'Sjostedt,', 'Asplund,', 'Leyson,', 'Harknett,', 'Hold,', 'Collyer,', 'Pengelly,', 'Hunt,', 'Zabour,', 'Murphy,', 'Coleridge,', 'Maenpaa,', 'Attalah,', 'Minahan,', 'Lindahl,', 'Hamalainen,', 'Beckwith,', 'Carter,', 'Reed,', 'Strom,', 'Stead,', 'Lobb,', 'Rosblom,', 'Touma,', 'Thorne,', 'Cherry,', 'Ward,', 'Parrish,', 'Smith,', 'Asplund,', 'Taussig,', 'Harrison,', 'Henry,', 'Reeves,', 'Panula,', 'Persson,', 'Graham,', 'Bissette,', 'Cairns,', 'Tornquist,', 'Mellinger,', 'Natsch,', 'Healy,', 'Andrews,', 'Lindblom,', 'Parkes,', 'Rice,', 'Abbott,', 'Duane,', 'Olsson,', 'de', 'Dorking,', 'Smith,', 'Stankovic,', 'de', 'Naidenoff,', 'Hosono,', 'Connolly,', 'Barber,', 'Bishop,', 'Levy,', 'Haas,', 'Mineff,', 'Lewy,', 'Hanna,', 'Allison,', 'Saalfeld,', 'Baxter,', 'Kelly,', 'McCoy,', 'Johnson,', 'Keane,', 'Williams,', 'Allison,', 'Fleming,', 'Penasco', 'Abelson,', 'Francatelli,', 'Hays,', 'Ryerson,', 'Lahtinen,', 'Hendekovic,', 'Hart,', 'Nilsson,', 'Kantor,', 'Moraweck,', 'Wick,', 'Spedden,', 'Dennis,', 'Danoff,', 'Slayter,', 'Caldwell,', 'Sage,', 'Young,', 'Nysveen,', 'Ball,', 'Goldsmith,', 'Hippach,', 'McCoy,', 'Partner,', 'Graham,', 'Vander', 'Frauenthal,', 'Denkoff,', 'Pears,', 'Burns,', 'Dahl,', 'Blackwell,', 'Navratil,', 'Fortune,', 'Collander,', 'Sedgwick,', 'Fox,', 'Brown,', 'Smith,', 'Davison,', 'Coutts,', 'Dimic,', 'Odahl,', 'Williams-Lambert,', 'Elias,', 'Arnold-Franchi,', 'Yousif,', 'Vanden', 'Bowerman,', 'Funk,', 'McGovern,', 'Mockler,', 'Skoog,', 'del', 'Barbara,', 'Asim,', \"O'Brien,\", 'Adahl,', 'Warren,', 'Moussa,', 'Jermyn,', 'Aubart,', 'Harder,', 'Wiklund,', 'Beavan,', 'Ringhini,', 'Palsson,', 'Meyer,', 'Landergren,', 'Widener,', 'Betros,', 'Gustafsson,', 'Bidois,', 'Nakid,', 'Tikkanen,', 'Holverson,', 'Plotcharsky,', 'Davies,', 'Goodwin,', 'Buss,', 'Sadlier,', 'Lehmann,', 'Carter,', 'Jansson,', 'Gustafsson,', 'Newell,', 'Sandstrom,', 'Johansson,', 'Olsson,', 'McKane,', 'Pain,', 'Trout,', 'Niskanen,', 'Adams,', 'Jussila,', 'Hakkarainen,', 'Oreskovic,', 'Gale,', 'Widegren,', 'Richards,', 'Birkeland,', 'Lefebre,', 'Sdycoff,', 'Hart,', 'Minahan,', 'Cunningham,', 'Sundman,', 'Meek,', 'Drew,', 'Silven,', 'Matthews,', 'Van', 'Gheorgheff,', 'Charters,', 'Zimmerman,', 'Danbom,', 'Rosblom,', 'Wiseman,', 'Clarke,', 'Phillips,', 'Flynn,', 'Pickard,', 'Bjornstrom-Steffansson,', 'Thorneycroft,', 'Louch,', 'Kallio,', 'Silvey,', 'Carter,', 'Ford,', 'Richards,', 'Fortune,', 'Kvillner,', 'Hart,', 'Hampe,', 'Petterson,', 'Reynaldo,', 'Johannesen-Bratthammer,', 'Dodge,', 'Mellinger,', 'Seward,', 'Baclini,', 'Peuchen,', 'West,', 'Hagland,', 'Foreman,', 'Goldenberg,', 'Peduzzi,', 'Jalsevac,', 'Millet,', 'Kenyon,', 'Toomey,', \"O'Connor,\", 'Anderson,', 'Morley,', 'Gee,', 'Milling,', 'Maisner,', 'Goncalves,', 'Campbell,', 'Smart,', 'Scanlan,', 'Baclini,', 'Keefe,', 'Cacic,', 'West,', 'Jerwan,', 'Strandberg,', 'Clifford,', 'Renouf,', 'Braund,', 'Karlsson,', 'Hirvonen,', 'Goodwin,', 'Frost,', 'Rouse,', 'Turkula,', 'Bishop,', 'Lefebre,', 'Hoyt,', 'Kent,', 'Somerton,', 'Coutts,', 'Hagland,', 'Windelov,', 'Molson,', 'Artagaveytia,', 'Stanley,', 'Yousseff,', 'Eustis,', 'Shellard,', 'Allison,', 'Svensson,', 'Calic,', 'Canavan,', \"O'Sullivan,\", 'Laitinen,', 'Maioni,', 'Penasco', 'Quick,', 'Bradley,', 'Olsen,', 'Lang,', 'Daly,', 'Webber,', 'McGough,', 'Rothschild,', 'Coleff,', 'Walker,', 'Lemore,', 'Ryan,', 'Angle,', 'Pavlovic,', 'Perreault,', 'Vovk,', 'Lahoud,', 'Hippach,', 'Kassem,', 'Farrell,', 'Ridsdale,', 'Farthing,', 'Salonen,', 'Hocking,', 'Quick,', 'Toufik,', 'Elias,', 'Peter,', 'Cacic,', 'Hart,', 'Butt,', 'LeRoy,', 'Risien,', 'Frolicher,', 'Crosby,', 'Andersson,', 'Andersson,', 'Beane,', 'Douglas,', 'Nicholson,', 'Beane,', 'Padro', 'Goldsmith,', 'Davies,', 'Thayer,', 'Sharp,', \"O'Brien,\", 'Leeni,', 'Ohman,', 'Wright,', 'Duff', 'Robbins,', 'Taussig,', 'de', 'Morrow,', 'Sivic,', 'Norman,', 'Simmons,', 'Meanwell,', 'Davies,', 'Stoytcheff,', 'Palsson,', 'Doharr,', 'Jonsson,', 'Harris,', 'Appleton,', 'Flynn,', 'Kelly,', 'Rush,', 'Patchett,', 'Garside,', 'Silvey,', 'Caram,', 'Jussila,', 'Christy,', 'Thayer,', 'Downton,', 'Ross,', 'Paulner,', 'Taussig,', 'Jarvis,', 'Frolicher-Stehli,', 'Gilinski,', 'Murdlin,', 'Rintamaki,', 'Stephenson,', 'Elsbury,', 'Bourke,', 'Chapman,', 'Van', 'Leitch,', 'Johnson,', 'Boulos,', 'Duff', 'Jacobsohn,', 'Slabenoff,', 'Harrington,', 'Torber,', 'Homer,', 'Lindell,', 'Karaic,', 'Daniel,', 'Laroche,', 'Shutes,', 'Andersson,', 'Jardin,', 'Murphy,', 'Horgan,', 'Brocklebank,', 'Herman,', 'Danbom,', 'Lobb,', 'Becker,', 'Gavey,', 'Yasbeck,', 'Kimball,', 'Nakid,', 'Hansen,', 'Bowen,', 'Sutton,', 'Kirkland,', 'Longley,', 'Bostandyeff,', \"O'Connell,\", 'Barkworth,', 'Lundahl,', 'Stahelin-Maeglin,', 'Parr,', 'Skoog,', 'Davis,', 'Leinonen,', 'Collyer,', 'Panula,', 'Thorneycroft,', 'Jensen,', 'Sagesser,', 'Skoog,', 'Foo,', 'Baclini,', 'Harper,', 'Cor,', 'Simonius-Blumer,', 'Willey,', 'Stanley,', 'Mitkoff,', 'Doling,', 'Kalvik,', \"O'Leary,\", 'Hegarty,', 'Hickman,', 'Radeff,', 'Bourke,', 'Eitemiller,', 'Newell,', 'Frauenthal,', 'Badt,', 'Colley,', 'Coleff,', 'Lindqvist,', 'Hickman,', 'Butler,', 'Rommetvedt,', 'Cook,', 'Taylor,', 'Brown,', 'Davidson,', 'Mitchell,', 'Wilhelms,', 'Watson,', 'Edvardsson,', 'Sawyer,', 'Turja,', 'Goodwin,', 'Cardeza,', 'Peters,', 'Hassab,', 'Olsvigen,', 'Goodwin,', 'Brown,', 'Laroche,', 'Panula,', 'Dakic,', 'Fischer,', 'Madill,', 'Dick,', 'Karun,', 'Lam,', 'Saad,', 'Weir,', 'Chapman,', 'Kelly,', 'Mullens,', 'Thayer,', 'Humblen,', 'Astor,', 'Silverthorne,', 'Barbara,', 'Gallagher,', 'Hansen,', 'Morley,', 'Kelly,', 'Calderhead,', 'Cleaver,', 'Moubarek,', 'Mayne,', 'Klaber,', 'Taylor,', 'Larsson,', 'Greenberg,', 'Soholt,', 'Endres,', 'Troutt,', 'McEvoy,', 'Johnson,', 'Harper,', 'Jensen,', 'Gillespie,', 'Hodges,', 'Chambers,', 'Oreskovic,', 'Renouf,', 'Mannion,', 'Bryhl,', 'Ilmakangas,', 'Allen,', 'Hassan,', 'Knight,', 'Berriman,', 'Troupiansky,', 'Williams,', 'Ford,', 'Lesurer,', 'Ivanoff,', 'Nankoff,', 'Hawksford,', 'Cavendish,', 'Ryerson,', 'McNamee,', 'Stranden,', 'Crosby,', 'Abbott,', 'Sinkkonen,', 'Marvin,', 'Connaghton,', 'Wells,', 'Moor,', 'Vande', 'Jonkoff,', 'Herman,', 'Hamalainen,', 'Carlsson,', 'Bailey,', 'Theobald,', 'Rothes,', 'Garfirth,', 'Nirva,', 'Barah,', 'Carter,', 'Eklund,', 'Hogeboom,', 'Brewe,', 'Mangan,', 'Moran,', 'Gronnestad,', 'Lievens,', 'Jensen,', 'Mack,', 'Elias,', 'Hocking,', 'Myhrman,', 'Tobin,', 'Emanuel,', 'Kilgannon,', 'Robert,', 'Ayoub,', 'Dick,', 'Long,', 'Johnston,', 'Ali,', 'Harmer,', 'Sjoblom,', 'Rice,', 'Dean,', 'Guggenheim,', 'Keane,', 'Gaskell,', 'Sage,', 'Hoyt,', 'Dantcheff,', 'Otter,', 'Leader,', 'Osman,', 'Ibrahim', 'Van', 'Ponesell,', 'Collyer,', 'Carter,', 'Thomas,', 'Hedman,', 'Johansson,', 'Andrews,', 'Pettersson,', 'Meyer,', 'Chambers,', 'Alexander,', 'Lester,', 'Slemen,', 'Andersson,', 'Tomlin,', 'Fry,', 'Heininen,', 'Mallet,', 'Holm,', 'Skoog,', 'Hays,', 'Lulic,', 'Reuchlin,', 'Moor,', 'Panula,', 'Flynn,', 'Lam,', 'Mallet,', 'McCormack,', 'Stone,', 'Yasbeck,', 'Richards,', 'Saad,', 'Augustsson,', 'Allum,', 'Compton,', 'Pasic,', 'Sirota,', 'Chip,', 'Marechal,', 'Alhomaki,', 'Mudd,', 'Serepeca,', 'Lemberopolous,', 'Culumovic,', 'Abbing,', 'Sage,', 'Markoff,', 'Harper,', 'Goldenberg,', 'Andersson,', 'Svensson,', 'Boulos,', 'Lines,', 'Carter,', 'Aks,', 'Wick,', 'Daly,', 'Baclini,', 'Razi,', 'Hansen,', 'Giles,', 'Swift,', 'Sage,', 'Gill,', 'Bystrom,', 'Duran', 'Roebling,', 'van', 'Johnson,', 'Balkic,', 'Beckwith,', 'Carlsson,', 'Vander', 'Abelson,', 'Najib,', 'Gustafsson,', 'Petroff,', 'Laleff,', 'Potter,', 'Shelley,', 'Markun,', 'Dahlberg,', 'Banfield,', 'Sutehall,', 'Rice,', 'Montvila,', 'Graham,', 'Johnston,', 'Behr,', 'Dooley,']\n"
          ],
          "name": "stdout"
        }
      ]
    },
    {
      "cell_type": "code",
      "metadata": {
        "colab": {
          "base_uri": "https://localhost:8080/",
          "height": 110
        },
        "id": "FYh1RaoF9V7m",
        "outputId": "1674f2fb-c484-4c9a-e103-de6b1ae5340d"
      },
      "source": [
        "df.head(n=2)"
      ],
      "execution_count": null,
      "outputs": [
        {
          "output_type": "execute_result",
          "data": {
            "text/html": [
              "<div>\n",
              "<style scoped>\n",
              "    .dataframe tbody tr th:only-of-type {\n",
              "        vertical-align: middle;\n",
              "    }\n",
              "\n",
              "    .dataframe tbody tr th {\n",
              "        vertical-align: top;\n",
              "    }\n",
              "\n",
              "    .dataframe thead th {\n",
              "        text-align: right;\n",
              "    }\n",
              "</style>\n",
              "<table border=\"1\" class=\"dataframe\">\n",
              "  <thead>\n",
              "    <tr style=\"text-align: right;\">\n",
              "      <th></th>\n",
              "      <th>PassengerId</th>\n",
              "      <th>Survived</th>\n",
              "      <th>Pclass</th>\n",
              "      <th>Name</th>\n",
              "      <th>Sex</th>\n",
              "      <th>Age</th>\n",
              "      <th>SibSp</th>\n",
              "      <th>Parch</th>\n",
              "      <th>Fare</th>\n",
              "      <th>Embarked</th>\n",
              "    </tr>\n",
              "  </thead>\n",
              "  <tbody>\n",
              "    <tr>\n",
              "      <th>0</th>\n",
              "      <td>1</td>\n",
              "      <td>0</td>\n",
              "      <td>3</td>\n",
              "      <td>Braund, Mr. Owen Harris</td>\n",
              "      <td>male</td>\n",
              "      <td>22.0</td>\n",
              "      <td>1</td>\n",
              "      <td>0</td>\n",
              "      <td>7.2500</td>\n",
              "      <td>S</td>\n",
              "    </tr>\n",
              "    <tr>\n",
              "      <th>1</th>\n",
              "      <td>2</td>\n",
              "      <td>1</td>\n",
              "      <td>1</td>\n",
              "      <td>Cumings, Mrs. John Bradley (Florence Briggs Th...</td>\n",
              "      <td>female</td>\n",
              "      <td>38.0</td>\n",
              "      <td>1</td>\n",
              "      <td>0</td>\n",
              "      <td>71.2833</td>\n",
              "      <td>C</td>\n",
              "    </tr>\n",
              "  </tbody>\n",
              "</table>\n",
              "</div>"
            ],
            "text/plain": [
              "   PassengerId  Survived  Pclass  ... Parch     Fare  Embarked\n",
              "0            1         0       3  ...     0   7.2500         S\n",
              "1            2         1       1  ...     0  71.2833         C\n",
              "\n",
              "[2 rows x 10 columns]"
            ]
          },
          "metadata": {
            "tags": []
          },
          "execution_count": 21
        }
      ]
    },
    {
      "cell_type": "code",
      "metadata": {
        "id": "0TP_Bemn9aWx"
      },
      "source": [
        "df3 = pd.DataFrame({'lkey': ['foo', 'bar', 'baz', 'foo'],\n",
        "                    'value': [1, 2, 3, 5]})"
      ],
      "execution_count": null,
      "outputs": []
    },
    {
      "cell_type": "code",
      "metadata": {
        "id": "B2-ZxNQ19eGI"
      },
      "source": [
        "df4 = pd.DataFrame({'rkey': ['foo', 'bar', 'baz', 'foo'],\n",
        "                    'value': [5, 6, 7, 8]})"
      ],
      "execution_count": null,
      "outputs": []
    },
    {
      "cell_type": "code",
      "metadata": {
        "colab": {
          "base_uri": "https://localhost:8080/",
          "height": 172
        },
        "id": "T9sQA1OO9iS2",
        "outputId": "f5f3cd85-4611-483d-aed8-cf87fd9e3e96"
      },
      "source": [
        "df3"
      ],
      "execution_count": null,
      "outputs": [
        {
          "output_type": "execute_result",
          "data": {
            "text/html": [
              "<div>\n",
              "<style scoped>\n",
              "    .dataframe tbody tr th:only-of-type {\n",
              "        vertical-align: middle;\n",
              "    }\n",
              "\n",
              "    .dataframe tbody tr th {\n",
              "        vertical-align: top;\n",
              "    }\n",
              "\n",
              "    .dataframe thead th {\n",
              "        text-align: right;\n",
              "    }\n",
              "</style>\n",
              "<table border=\"1\" class=\"dataframe\">\n",
              "  <thead>\n",
              "    <tr style=\"text-align: right;\">\n",
              "      <th></th>\n",
              "      <th>lkey</th>\n",
              "      <th>value</th>\n",
              "    </tr>\n",
              "  </thead>\n",
              "  <tbody>\n",
              "    <tr>\n",
              "      <th>0</th>\n",
              "      <td>foo</td>\n",
              "      <td>1</td>\n",
              "    </tr>\n",
              "    <tr>\n",
              "      <th>1</th>\n",
              "      <td>bar</td>\n",
              "      <td>2</td>\n",
              "    </tr>\n",
              "    <tr>\n",
              "      <th>2</th>\n",
              "      <td>baz</td>\n",
              "      <td>3</td>\n",
              "    </tr>\n",
              "    <tr>\n",
              "      <th>3</th>\n",
              "      <td>foo</td>\n",
              "      <td>5</td>\n",
              "    </tr>\n",
              "  </tbody>\n",
              "</table>\n",
              "</div>"
            ],
            "text/plain": [
              "  lkey  value\n",
              "0  foo      1\n",
              "1  bar      2\n",
              "2  baz      3\n",
              "3  foo      5"
            ]
          },
          "metadata": {
            "tags": []
          },
          "execution_count": 25
        }
      ]
    },
    {
      "cell_type": "code",
      "metadata": {
        "colab": {
          "base_uri": "https://localhost:8080/",
          "height": 172
        },
        "id": "MzN5qpGF9iWb",
        "outputId": "4cf5604b-6901-46e1-b45f-abccb99dec70"
      },
      "source": [
        "df4"
      ],
      "execution_count": null,
      "outputs": [
        {
          "output_type": "execute_result",
          "data": {
            "text/html": [
              "<div>\n",
              "<style scoped>\n",
              "    .dataframe tbody tr th:only-of-type {\n",
              "        vertical-align: middle;\n",
              "    }\n",
              "\n",
              "    .dataframe tbody tr th {\n",
              "        vertical-align: top;\n",
              "    }\n",
              "\n",
              "    .dataframe thead th {\n",
              "        text-align: right;\n",
              "    }\n",
              "</style>\n",
              "<table border=\"1\" class=\"dataframe\">\n",
              "  <thead>\n",
              "    <tr style=\"text-align: right;\">\n",
              "      <th></th>\n",
              "      <th>rkey</th>\n",
              "      <th>value</th>\n",
              "    </tr>\n",
              "  </thead>\n",
              "  <tbody>\n",
              "    <tr>\n",
              "      <th>0</th>\n",
              "      <td>foo</td>\n",
              "      <td>5</td>\n",
              "    </tr>\n",
              "    <tr>\n",
              "      <th>1</th>\n",
              "      <td>bar</td>\n",
              "      <td>6</td>\n",
              "    </tr>\n",
              "    <tr>\n",
              "      <th>2</th>\n",
              "      <td>baz</td>\n",
              "      <td>7</td>\n",
              "    </tr>\n",
              "    <tr>\n",
              "      <th>3</th>\n",
              "      <td>foo</td>\n",
              "      <td>8</td>\n",
              "    </tr>\n",
              "  </tbody>\n",
              "</table>\n",
              "</div>"
            ],
            "text/plain": [
              "  rkey  value\n",
              "0  foo      5\n",
              "1  bar      6\n",
              "2  baz      7\n",
              "3  foo      8"
            ]
          },
          "metadata": {
            "tags": []
          },
          "execution_count": 26
        }
      ]
    },
    {
      "cell_type": "code",
      "metadata": {
        "colab": {
          "base_uri": "https://localhost:8080/",
          "height": 234
        },
        "id": "sy6dcSFk9ocK",
        "outputId": "f8600ded-5c9f-4244-8251-8cf1b2b2d761"
      },
      "source": [
        "df3.merge(df4, left_on='lkey', right_on='rkey')"
      ],
      "execution_count": null,
      "outputs": [
        {
          "output_type": "execute_result",
          "data": {
            "text/html": [
              "<div>\n",
              "<style scoped>\n",
              "    .dataframe tbody tr th:only-of-type {\n",
              "        vertical-align: middle;\n",
              "    }\n",
              "\n",
              "    .dataframe tbody tr th {\n",
              "        vertical-align: top;\n",
              "    }\n",
              "\n",
              "    .dataframe thead th {\n",
              "        text-align: right;\n",
              "    }\n",
              "</style>\n",
              "<table border=\"1\" class=\"dataframe\">\n",
              "  <thead>\n",
              "    <tr style=\"text-align: right;\">\n",
              "      <th></th>\n",
              "      <th>lkey</th>\n",
              "      <th>value_x</th>\n",
              "      <th>rkey</th>\n",
              "      <th>value_y</th>\n",
              "    </tr>\n",
              "  </thead>\n",
              "  <tbody>\n",
              "    <tr>\n",
              "      <th>0</th>\n",
              "      <td>foo</td>\n",
              "      <td>1</td>\n",
              "      <td>foo</td>\n",
              "      <td>5</td>\n",
              "    </tr>\n",
              "    <tr>\n",
              "      <th>1</th>\n",
              "      <td>foo</td>\n",
              "      <td>1</td>\n",
              "      <td>foo</td>\n",
              "      <td>8</td>\n",
              "    </tr>\n",
              "    <tr>\n",
              "      <th>2</th>\n",
              "      <td>foo</td>\n",
              "      <td>5</td>\n",
              "      <td>foo</td>\n",
              "      <td>5</td>\n",
              "    </tr>\n",
              "    <tr>\n",
              "      <th>3</th>\n",
              "      <td>foo</td>\n",
              "      <td>5</td>\n",
              "      <td>foo</td>\n",
              "      <td>8</td>\n",
              "    </tr>\n",
              "    <tr>\n",
              "      <th>4</th>\n",
              "      <td>bar</td>\n",
              "      <td>2</td>\n",
              "      <td>bar</td>\n",
              "      <td>6</td>\n",
              "    </tr>\n",
              "    <tr>\n",
              "      <th>5</th>\n",
              "      <td>baz</td>\n",
              "      <td>3</td>\n",
              "      <td>baz</td>\n",
              "      <td>7</td>\n",
              "    </tr>\n",
              "  </tbody>\n",
              "</table>\n",
              "</div>"
            ],
            "text/plain": [
              "  lkey  value_x rkey  value_y\n",
              "0  foo        1  foo        5\n",
              "1  foo        1  foo        8\n",
              "2  foo        5  foo        5\n",
              "3  foo        5  foo        8\n",
              "4  bar        2  bar        6\n",
              "5  baz        3  baz        7"
            ]
          },
          "metadata": {
            "tags": []
          },
          "execution_count": 27
        }
      ]
    },
    {
      "cell_type": "code",
      "metadata": {
        "id": "IsfLWBWW9uy6"
      },
      "source": [
        "def name_extract(word):\n",
        "    return word.split(\",\")[1].split(\".\")[0].strip()"
      ],
      "execution_count": null,
      "outputs": []
    },
    {
      "cell_type": "code",
      "metadata": {
        "colab": {
          "base_uri": "https://localhost:8080/",
          "height": 35
        },
        "id": "T8K7rYQn90-d",
        "outputId": "0cfbca30-a54b-4f4b-d09c-6efe7b3d958c"
      },
      "source": [
        "name_extract(\"Kelly, Mr. James\")"
      ],
      "execution_count": null,
      "outputs": [
        {
          "output_type": "execute_result",
          "data": {
            "application/vnd.google.colaboratory.intrinsic+json": {
              "type": "string"
            },
            "text/plain": [
              "'Mr'"
            ]
          },
          "metadata": {
            "tags": []
          },
          "execution_count": 29
        }
      ]
    },
    {
      "cell_type": "code",
      "metadata": {
        "id": "gNbVtmFV95Tz"
      },
      "source": [
        "df5=pd.DataFrame({\"Salutation\":df[\"Name\"].apply(name_extract)})"
      ],
      "execution_count": null,
      "outputs": []
    },
    {
      "cell_type": "code",
      "metadata": {
        "colab": {
          "base_uri": "https://localhost:8080/",
          "height": 203
        },
        "id": "EuoyJVUF9-l5",
        "outputId": "04836e6d-b9e4-4c49-b74b-445d65197121"
      },
      "source": [
        "df5.head()"
      ],
      "execution_count": null,
      "outputs": [
        {
          "output_type": "execute_result",
          "data": {
            "text/html": [
              "<div>\n",
              "<style scoped>\n",
              "    .dataframe tbody tr th:only-of-type {\n",
              "        vertical-align: middle;\n",
              "    }\n",
              "\n",
              "    .dataframe tbody tr th {\n",
              "        vertical-align: top;\n",
              "    }\n",
              "\n",
              "    .dataframe thead th {\n",
              "        text-align: right;\n",
              "    }\n",
              "</style>\n",
              "<table border=\"1\" class=\"dataframe\">\n",
              "  <thead>\n",
              "    <tr style=\"text-align: right;\">\n",
              "      <th></th>\n",
              "      <th>Salutation</th>\n",
              "    </tr>\n",
              "  </thead>\n",
              "  <tbody>\n",
              "    <tr>\n",
              "      <th>0</th>\n",
              "      <td>Mr</td>\n",
              "    </tr>\n",
              "    <tr>\n",
              "      <th>1</th>\n",
              "      <td>Mrs</td>\n",
              "    </tr>\n",
              "    <tr>\n",
              "      <th>2</th>\n",
              "      <td>Miss</td>\n",
              "    </tr>\n",
              "    <tr>\n",
              "      <th>3</th>\n",
              "      <td>Mrs</td>\n",
              "    </tr>\n",
              "    <tr>\n",
              "      <th>4</th>\n",
              "      <td>Mr</td>\n",
              "    </tr>\n",
              "  </tbody>\n",
              "</table>\n",
              "</div>"
            ],
            "text/plain": [
              "  Salutation\n",
              "0         Mr\n",
              "1        Mrs\n",
              "2       Miss\n",
              "3        Mrs\n",
              "4         Mr"
            ]
          },
          "metadata": {
            "tags": []
          },
          "execution_count": 31
        }
      ]
    },
    {
      "cell_type": "code",
      "metadata": {
        "id": "7Acy0ABC-AjI"
      },
      "source": [
        "df=pd.merge(df,df5,left_index=True,right_index=True)"
      ],
      "execution_count": null,
      "outputs": []
    },
    {
      "cell_type": "code",
      "metadata": {
        "colab": {
          "base_uri": "https://localhost:8080/",
          "height": 203
        },
        "id": "BJtuabZq-MYN",
        "outputId": "c56c03dc-663a-4b88-f3a2-2342aba1e7c6"
      },
      "source": [
        "df.head()"
      ],
      "execution_count": null,
      "outputs": [
        {
          "output_type": "execute_result",
          "data": {
            "text/html": [
              "<div>\n",
              "<style scoped>\n",
              "    .dataframe tbody tr th:only-of-type {\n",
              "        vertical-align: middle;\n",
              "    }\n",
              "\n",
              "    .dataframe tbody tr th {\n",
              "        vertical-align: top;\n",
              "    }\n",
              "\n",
              "    .dataframe thead th {\n",
              "        text-align: right;\n",
              "    }\n",
              "</style>\n",
              "<table border=\"1\" class=\"dataframe\">\n",
              "  <thead>\n",
              "    <tr style=\"text-align: right;\">\n",
              "      <th></th>\n",
              "      <th>PassengerId</th>\n",
              "      <th>Survived</th>\n",
              "      <th>Pclass</th>\n",
              "      <th>Name</th>\n",
              "      <th>Sex</th>\n",
              "      <th>Age</th>\n",
              "      <th>SibSp</th>\n",
              "      <th>Parch</th>\n",
              "      <th>Fare</th>\n",
              "      <th>Embarked</th>\n",
              "      <th>Salutation</th>\n",
              "    </tr>\n",
              "  </thead>\n",
              "  <tbody>\n",
              "    <tr>\n",
              "      <th>0</th>\n",
              "      <td>1</td>\n",
              "      <td>0</td>\n",
              "      <td>3</td>\n",
              "      <td>Braund, Mr. Owen Harris</td>\n",
              "      <td>male</td>\n",
              "      <td>22.0</td>\n",
              "      <td>1</td>\n",
              "      <td>0</td>\n",
              "      <td>7.2500</td>\n",
              "      <td>S</td>\n",
              "      <td>Mr</td>\n",
              "    </tr>\n",
              "    <tr>\n",
              "      <th>1</th>\n",
              "      <td>2</td>\n",
              "      <td>1</td>\n",
              "      <td>1</td>\n",
              "      <td>Cumings, Mrs. John Bradley (Florence Briggs Th...</td>\n",
              "      <td>female</td>\n",
              "      <td>38.0</td>\n",
              "      <td>1</td>\n",
              "      <td>0</td>\n",
              "      <td>71.2833</td>\n",
              "      <td>C</td>\n",
              "      <td>Mrs</td>\n",
              "    </tr>\n",
              "    <tr>\n",
              "      <th>2</th>\n",
              "      <td>3</td>\n",
              "      <td>1</td>\n",
              "      <td>3</td>\n",
              "      <td>Heikkinen, Miss. Laina</td>\n",
              "      <td>female</td>\n",
              "      <td>26.0</td>\n",
              "      <td>0</td>\n",
              "      <td>0</td>\n",
              "      <td>7.9250</td>\n",
              "      <td>S</td>\n",
              "      <td>Miss</td>\n",
              "    </tr>\n",
              "    <tr>\n",
              "      <th>3</th>\n",
              "      <td>4</td>\n",
              "      <td>1</td>\n",
              "      <td>1</td>\n",
              "      <td>Futrelle, Mrs. Jacques Heath (Lily May Peel)</td>\n",
              "      <td>female</td>\n",
              "      <td>35.0</td>\n",
              "      <td>1</td>\n",
              "      <td>0</td>\n",
              "      <td>53.1000</td>\n",
              "      <td>S</td>\n",
              "      <td>Mrs</td>\n",
              "    </tr>\n",
              "    <tr>\n",
              "      <th>4</th>\n",
              "      <td>5</td>\n",
              "      <td>0</td>\n",
              "      <td>3</td>\n",
              "      <td>Allen, Mr. William Henry</td>\n",
              "      <td>male</td>\n",
              "      <td>35.0</td>\n",
              "      <td>0</td>\n",
              "      <td>0</td>\n",
              "      <td>8.0500</td>\n",
              "      <td>S</td>\n",
              "      <td>Mr</td>\n",
              "    </tr>\n",
              "  </tbody>\n",
              "</table>\n",
              "</div>"
            ],
            "text/plain": [
              "   PassengerId  Survived  Pclass  ...     Fare Embarked  Salutation\n",
              "0            1         0       3  ...   7.2500        S          Mr\n",
              "1            2         1       1  ...  71.2833        C         Mrs\n",
              "2            3         1       3  ...   7.9250        S        Miss\n",
              "3            4         1       1  ...  53.1000        S         Mrs\n",
              "4            5         0       3  ...   8.0500        S          Mr\n",
              "\n",
              "[5 rows x 11 columns]"
            ]
          },
          "metadata": {
            "tags": []
          },
          "execution_count": 33
        }
      ]
    },
    {
      "cell_type": "code",
      "metadata": {
        "colab": {
          "base_uri": "https://localhost:8080/"
        },
        "id": "QxMMa6Ds-P6z",
        "outputId": "7674d907-78ac-4c08-8981-a66e4fef86f8"
      },
      "source": [
        "df.Salutation.unique()"
      ],
      "execution_count": null,
      "outputs": [
        {
          "output_type": "execute_result",
          "data": {
            "text/plain": [
              "array(['Mr', 'Mrs', 'Miss', 'Master', 'Don', 'Rev', 'Dr', 'Mme', 'Ms',\n",
              "       'Major', 'Lady', 'Sir', 'Mlle', 'Col', 'Capt', 'the Countess',\n",
              "       'Jonkheer'], dtype=object)"
            ]
          },
          "metadata": {
            "tags": []
          },
          "execution_count": 34
        }
      ]
    }
  ]
}